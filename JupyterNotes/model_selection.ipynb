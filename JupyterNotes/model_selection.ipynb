{
 "cells": [
  {
   "cell_type": "code",
   "execution_count": 1,
   "metadata": {
    "collapsed": true
   },
   "outputs": [],
   "source": [
    "from image_data_process import load_image_data\n",
    "\n",
    "data, labels = load_image_data()"
   ]
  },
  {
   "cell_type": "code",
   "execution_count": 2,
   "metadata": {},
   "outputs": [],
   "source": [
    "import numpy as np\n",
    "\n",
    "shuffled_indices = np.random.permutation(len(data))\n",
    "test_set_size = int(len(data) * 0.6)\n",
    "test_indices = shuffled_indices[:test_set_size]\n",
    "train_indices = shuffled_indices[test_set_size:]\n",
    "\n",
    "X_train = data[train_indices]\n",
    "y_train = labels[train_indices]\n",
    "\n",
    "X_test = data[test_indices]\n",
    "y_test = labels[test_indices]"
   ]
  },
  {
   "cell_type": "code",
   "execution_count": 3,
   "metadata": {},
   "outputs": [
    {
     "data": {
      "text/plain": [
       "array([[ 0.78806648,  0.87490206, -0.96712742, ...,  0.02893678,\n         0.45976935, -0.56832841],\n       [ 1.0256254 ,  0.44391721, -0.96712742, ...,  2.31019388,\n        -1.29571362,  0.73252632],\n       [-0.20176237, -1.20819139,  0.69562808, ...,  0.36075599,\n         0.3134791 , -0.30815747],\n       ..., \n       [ 0.80786306,  0.65940963, -0.13574967, ...,  0.15336898,\n        -3.05119658,  3.98466314],\n       [-1.07281177,  0.3720864 , -0.75928298, ..., -2.52192344,\n         1.48380108, -0.95858483],\n       [ 0.5109144 ,  1.01856368, -0.75928298, ...,  0.5266656 ,\n        -0.12539164, -0.04798652]])"
      ]
     },
     "execution_count": 3,
     "metadata": {},
     "output_type": "execute_result"
    }
   ],
   "source": [
    "from sklearn.preprocessing import StandardScaler\n",
    "\n",
    "scaler = StandardScaler()\n",
    "X_train_prepared = scaler.fit_transform(X_train.astype(float))\n",
    "X_train_prepared"
   ]
  },
  {
   "cell_type": "code",
   "execution_count": 4,
   "metadata": {},
   "outputs": [
    {
     "data": {
      "text/plain": [
       "array([[337,   0,   2],\n       [  1, 336,   3],\n       [  0,   3, 340]])"
      ]
     },
     "execution_count": 4,
     "metadata": {},
     "output_type": "execute_result"
    }
   ],
   "source": [
    "from sklearn.ensemble import RandomForestClassifier\n",
    "from sklearn.metrics import confusion_matrix\n",
    "from sklearn.model_selection import cross_val_predict\n",
    "\n",
    "model = RandomForestClassifier()\n",
    "\n",
    "y_train_pred = cross_val_predict(model, X_train_prepared, y_train, cv=3)\n",
    "conf_mx = confusion_matrix(y_train, y_train_pred)\n",
    "conf_mx"
   ]
  },
  {
   "cell_type": "code",
   "execution_count": 5,
   "metadata": {},
   "outputs": [
    {
     "name": "stdout",
     "output_type": "stream",
     "text": [
      "[ 0.99704142  0.99115044  0.98550725]\n[ 0.99410029  0.98823529  0.99125364]\n[ 0.99556869  0.98969072  0.98837209]\n"
     ]
    }
   ],
   "source": [
    "from sklearn.metrics import precision_score, recall_score, f1_score\n",
    "\n",
    "print(precision_score(y_train, y_train_pred, average=None))\n",
    "print(recall_score(y_train, y_train_pred, average=None))\n",
    "print(f1_score(y_train, y_train_pred, average=None))"
   ]
  },
  {
   "cell_type": "code",
   "execution_count": 6,
   "metadata": {},
   "outputs": [
    {
     "data": {
      "text/plain": [
       "array([[506,   0,   0],\n       [  3, 530,   1],\n       [  0,   2, 490]])"
      ]
     },
     "execution_count": 6,
     "metadata": {},
     "output_type": "execute_result"
    }
   ],
   "source": [
    "model.fit(X_train_prepared, y_train)\n",
    "y_test_pred = model.predict(scaler.transform(X_test.astype(float)))\n",
    "confusion_matrix(y_test, y_test_pred)"
   ]
  },
  {
   "cell_type": "code",
   "execution_count": 7,
   "metadata": {},
   "outputs": [
    {
     "name": "stdout",
     "output_type": "stream",
     "text": [
      "Precision:\t [ 0.99410609  0.9962406   0.99796334]\nRecall:\t [ 1.          0.99250936  0.99593496]\nF1 score:\t [ 0.99704433  0.99437148  0.99694812]\n"
     ]
    }
   ],
   "source": [
    "print('Precision:\\t', precision_score(y_test, y_test_pred, average=None))\n",
    "print('Recall:\\t', recall_score(y_test, y_test_pred, average=None))\n",
    "print('F1 score:\\t', f1_score(y_test, y_test_pred, average=None))"
   ]
  },
  {
   "cell_type": "code",
   "execution_count": null,
   "metadata": {},
   "outputs": [],
   "source": []
  }
 ],
 "metadata": {
  "kernelspec": {
   "display_name": "Python 2",
   "language": "python",
   "name": "python2"
  },
  "language_info": {
   "codemirror_mode": {
    "name": "ipython",
    "version": 2
   },
   "file_extension": ".py",
   "mimetype": "text/x-python",
   "name": "python",
   "nbconvert_exporter": "python",
   "pygments_lexer": "ipython2",
   "version": "2.7.6"
  }
 },
 "nbformat": 4,
 "nbformat_minor": 0
}
